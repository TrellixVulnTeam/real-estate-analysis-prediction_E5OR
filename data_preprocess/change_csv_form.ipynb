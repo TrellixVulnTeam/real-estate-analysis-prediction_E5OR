{
 "cells": [
  {
   "cell_type": "markdown",
   "id": "cdf07874",
   "metadata": {},
   "source": [
    "# 데이터 전처리"
   ]
  },
  {
   "cell_type": "code",
   "execution_count": 7,
   "id": "d7f73f32",
   "metadata": {},
   "outputs": [],
   "source": [
    "import pandas as pd"
   ]
  },
  {
   "cell_type": "code",
   "execution_count": 8,
   "id": "9ee0dcc8",
   "metadata": {},
   "outputs": [],
   "source": [
    "provinces = ['강원도','경기도','경상남도','경상북도','광주광역시','대구광역시',\n",
    "             '대전광역시','부산광역시','서울특별시','세종특별자치시','울산광역시',\n",
    "             '인천광역시','전라남도','전라북도','제주특별자치도','충청남도','충청북도']"
   ]
  },
  {
   "cell_type": "code",
   "execution_count": 10,
   "id": "aee4d2c2",
   "metadata": {},
   "outputs": [],
   "source": [
    "years = list(range(2010, 2022))"
   ]
  },
  {
   "cell_type": "code",
   "execution_count": 12,
   "id": "b7b0f572",
   "metadata": {},
   "outputs": [],
   "source": [
    "for p in provinces:\n",
    "    basic_folder = f'/home/user/dataset/{p}/{p}_'\n",
    "\n",
    "    for y in years:\n",
    "        df = pd.read_csv(basic_folder + str(y) + '.csv', encoding='CP949', skiprows=15)\n",
    "        df.drop(['번지', '본번', '부번', '계약일', '해제사유발생일'], axis=1, inplace=True)\n",
    "        df.to_csv(basic_folder + str(y) + '.csv', index=False)"
   ]
  }
 ],
 "metadata": {
  "kernelspec": {
   "display_name": "Python 3",
   "language": "python",
   "name": "python3"
  },
  "language_info": {
   "codemirror_mode": {
    "name": "ipython",
    "version": 3
   },
   "file_extension": ".py",
   "mimetype": "text/x-python",
   "name": "python",
   "nbconvert_exporter": "python",
   "pygments_lexer": "ipython3",
   "version": "3.6.13"
  }
 },
 "nbformat": 4,
 "nbformat_minor": 5
}
